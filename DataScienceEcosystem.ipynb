{
 "cells": [
  {
   "cell_type": "markdown",
   "id": "0a1d9bff-5b51-4db1-974e-cdecce296229",
   "metadata": {},
   "source": [
    "# Data Science Tools and Ecosystem"
   ]
  },
  {
   "cell_type": "markdown",
   "id": "650a2176-1f33-421d-836a-197e44acb2ef",
   "metadata": {},
   "source": [
    "### In this notebook, Data Science Tools and Ecosystem are summarized."
   ]
  },
  {
   "cell_type": "markdown",
   "id": "5eba5ff3-9776-4709-bfd3-fdd99b07becc",
   "metadata": {},
   "source": [
    "Objectives:\n",
    "* Create a Jupyter Notebook\n",
    "* Create markdown cell with title of the notebook\n",
    "* Create a markdown cell for an introduction\n",
    "* Create a markdown cell to list data science languages\n",
    "* Create a markdown cell to list data science libraries\n",
    "* Create a markdown cell with a table of Data Science tools\n",
    "* Create a markdown cell introducing arithmetic expression examples\n",
    "* Create a code cell to multiply and add numbers\n",
    "* Create a code cell to convert minutes to hours\n",
    "* Insert a markdown cell to list Objectives\n",
    "* Create a markdown cell to indicate the Author's name\n",
    "* Share your notebook through GitHub\n",
    "\n",
    "\n"
   ]
  },
  {
   "cell_type": "markdown",
   "id": "67099a8a-08dd-47c6-961e-abe0adfc0f39",
   "metadata": {},
   "source": [
    "#### Some of the popular languages that Data Scientists use are:\n",
    "1. Python\n",
    "2. C++\n",
    "3. R\n",
    "4. Julia\n",
    "5. Scala"
   ]
  },
  {
   "cell_type": "markdown",
   "id": "4a90a491-614a-4f12-9b5b-5adaa9eb6d2c",
   "metadata": {},
   "source": [
    "Some of the commonly used libraries used by Data Scientists include:\n",
    "1. Scikit learn\n",
    "2. Seaborn \n",
    "3. Pandas\n",
    "4. Numpy\n",
    "5. MatPlotLib"
   ]
  },
  {
   "cell_type": "markdown",
   "id": "34e2d67a-8816-4440-85be-6238cd35e323",
   "metadata": {},
   "source": [
    "Data Science Tools|\n",
    "-------------------\n",
    "Hadoop|\n",
    "Apache Spark|\n",
    "TensorFlow|"
   ]
  },
  {
   "cell_type": "markdown",
   "id": "5c721abc-c617-4035-a265-1723ce0d00cb",
   "metadata": {},
   "source": [
    "### Below are a few examples of evaluating arithmetic expressions in Python"
   ]
  },
  {
   "cell_type": "code",
   "execution_count": 3,
   "id": "424f8442-ea1a-4061-bfff-eeed0c9574eb",
   "metadata": {
    "tags": []
   },
   "outputs": [
    {
     "data": {
      "text/plain": [
       "17"
      ]
     },
     "execution_count": 3,
     "metadata": {},
     "output_type": "execute_result"
    }
   ],
   "source": [
    "#This a simple arithmetic expression to mutiply then add integers\n",
    "\n",
    "(3*4)+5"
   ]
  },
  {
   "cell_type": "code",
   "execution_count": 5,
   "id": "365f7857-8b9f-417a-a3b3-b4425e697953",
   "metadata": {
    "tags": []
   },
   "outputs": [
    {
     "name": "stdout",
     "output_type": "stream",
     "text": [
      "200 minutes are 3.3333333333333335 hours\n"
     ]
    }
   ],
   "source": [
    "#This will convert 200 minutes to hours by diving by 60\n",
    "\n",
    "print(\"200 minutes are\", 200/60, \"hours\")"
   ]
  },
  {
   "cell_type": "markdown",
   "id": "8116f8d7-3885-408f-8d6d-c69b7e2a158b",
   "metadata": {},
   "source": [
    "## Author\n",
    "Garik Sanasaryan"
   ]
  },
  {
   "cell_type": "code",
   "execution_count": null,
   "id": "b55a198e-cd35-4a13-beab-be634faec97f",
   "metadata": {},
   "outputs": [],
   "source": []
  }
 ],
 "metadata": {
  "kernelspec": {
   "display_name": "Python 3 (ipykernel)",
   "language": "python",
   "name": "python3"
  },
  "language_info": {
   "codemirror_mode": {
    "name": "ipython",
    "version": 3
   },
   "file_extension": ".py",
   "mimetype": "text/x-python",
   "name": "python",
   "nbconvert_exporter": "python",
   "pygments_lexer": "ipython3",
   "version": "3.11.5"
  }
 },
 "nbformat": 4,
 "nbformat_minor": 5
}
